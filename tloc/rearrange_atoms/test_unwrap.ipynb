{
 "cells": [
  {
   "cell_type": "code",
   "execution_count": 1,
   "metadata": {},
   "outputs": [],
   "source": [
    "from ase.io import read\n",
    "from ase.visualize import view\n",
    "from ase.neighborlist import natural_cutoffs, NeighborList\n",
    "from scipy import sparse\n",
    "import numpy as np"
   ]
  },
  {
   "cell_type": "code",
   "execution_count": 2,
   "metadata": {},
   "outputs": [],
   "source": [
    "atoms = read('ttf-tcnq.cif')"
   ]
  },
  {
   "cell_type": "code",
   "execution_count": 3,
   "metadata": {},
   "outputs": [
    {
     "name": "stdout",
     "output_type": "stream",
     "text": [
      "There are 4 molecules in the system\n",
      "Atom 1 is part of molecule 1\n",
      "The following atoms are part of molecule 1: [1, 3, 5, 7, 9, 11, 13, 15, 17, 19, 21, 23, 25, 27]\n"
     ]
    }
   ],
   "source": [
    "nl_linkers = NeighborList(natural_cutoffs(atoms), self_interaction=False, bothways=True)\n",
    "nl_linkers.update(atoms)\n",
    "matrix = nl_linkers.get_connectivity_matrix(nl_linkers.nl)\n",
    "n_components, component_list = sparse.csgraph.connected_components(matrix)\n",
    "idx = 1\n",
    "molIdx = component_list[idx]\n",
    "print(\"There are {} molecules in the system\".format(n_components))\n",
    "print(\"Atom {} is part of molecule {}\".format(idx, molIdx))\n",
    "molIdxs = [ i for i in range(len(component_list)) if component_list[i] == molIdx ]\n",
    "print(\"The following atoms are part of molecule {}: {}\".format(molIdx, molIdxs))\n"
   ]
  },
  {
   "cell_type": "code",
   "execution_count": 4,
   "metadata": {},
   "outputs": [],
   "source": [
    "edges = list(matrix.keys())"
   ]
  },
  {
   "cell_type": "code",
   "execution_count": 5,
   "metadata": {},
   "outputs": [],
   "source": [
    "def find_min_config(min_pos, max_pos, distance, cell, index):\n",
    "    if np.linalg.norm(max_pos - (min_pos + cell[index])) < distance:\n",
    "        min_pos = min_pos + cell[index]\n",
    "    return min_pos"
   ]
  },
  {
   "cell_type": "code",
   "execution_count": 6,
   "metadata": {},
   "outputs": [],
   "source": [
    "max_bond_len = max(natural_cutoffs(atoms))\n",
    "cell = list(atoms.get_cell())\n",
    "new_atoms = read('ttf-tcnq.cif')\n",
    "new_atoms.set_pbc([False,False,False])\n",
    "all_positions = new_atoms.get_positions()\n",
    "is_optimized = False\n",
    "# For each bond, take the lower left and move it upper right until the bond shrinks\n",
    "while not is_optimized:\n",
    "    is_optimized = True\n",
    "    for i in range(3):\n",
    "        for edge in edges:\n",
    "            positions = all_positions\n",
    "            distance = np.linalg.norm(positions[edge[0]]-positions[edge[1]])\n",
    "            if distance > max_bond_len*2:\n",
    "                is_optimized = False\n",
    "                min_pos = positions[edge[0]] if positions[edge[0],i] < positions[edge[1],i] else positions[edge[1]]\n",
    "                max_pos = positions[edge[0]] if positions[edge[0],i] >= positions[edge[1],i] else positions[edge[1]]\n",
    "                new_pos = find_min_config(min_pos, max_pos, distance, cell, i)\n",
    "                if np.array_equal(min_pos,positions[edge[0]]):\n",
    "                    all_positions[edge[0]] = new_pos\n",
    "                    all_positions[edge[1]] = max_pos\n",
    "                else:\n",
    "                    all_positions[edge[0]] = max_pos\n",
    "                    all_positions[edge[1]] = new_pos\n",
    "new_atoms.set_positions(all_positions)\n",
    "view(new_atoms)"
   ]
  },
  {
   "cell_type": "code",
   "execution_count": 7,
   "metadata": {},
   "outputs": [],
   "source": [
    "from ase import Atoms\n",
    "new_atoms = "
   ]
  },
  {
   "cell_type": "code",
   "execution_count": null,
   "metadata": {},
   "outputs": [],
   "source": []
  }
 ],
 "metadata": {
  "interpreter": {
   "hash": "74d12236180e2edb5bd17f4760336b595ffde987a169c5d95022c4f0feef7924"
  },
  "kernelspec": {
   "display_name": "Python 3.8.3 ('base')",
   "language": "python",
   "name": "python3"
  },
  "language_info": {
   "codemirror_mode": {
    "name": "ipython",
    "version": 3
   },
   "file_extension": ".py",
   "mimetype": "text/x-python",
   "name": "python",
   "nbconvert_exporter": "python",
   "pygments_lexer": "ipython3",
   "version": "3.8.3"
  },
  "orig_nbformat": 4
 },
 "nbformat": 4,
 "nbformat_minor": 2
}
